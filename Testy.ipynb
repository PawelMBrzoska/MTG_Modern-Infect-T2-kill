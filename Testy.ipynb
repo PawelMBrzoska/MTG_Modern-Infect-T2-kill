{
 "cells": [
  {
   "cell_type": "code",
   "execution_count": 1,
   "metadata": {},
   "outputs": [],
   "source": [
    "import pandas as pd"
   ]
  },
  {
   "cell_type": "code",
   "execution_count": 3,
   "metadata": {},
   "outputs": [],
   "source": [
    "class card:\n",
    "    def __init__(self):\n",
    "        self.name = str\n",
    "        self.amount = int\n",
    "        self.id = int\n"
   ]
  },
  {
   "cell_type": "code",
   "execution_count": 5,
   "metadata": {},
   "outputs": [
    {
     "name": "stdout",
     "output_type": "stream",
     "text": [
      "[\"Archmage's Charm\", 'Counterspell', 'Spirebluff Canal', 'Polluted Delta', 'Counterspell', 'Consider', 'Ragavan, Nimble Pilferer']\n"
     ]
    }
   ],
   "source": [
    "import random\n",
    "\n",
    "df = open('Deck.txt').read().splitlines()\n",
    "deck = []\n",
    "i=1\n",
    "for line in df:\n",
    "    if line != \"\":\n",
    "        for i in range(0,int(line[0])):\n",
    "            deck.append(line[2:])\n",
    "    else:\n",
    "        break\n",
    "\n",
    "hand = random.choices(deck, k=7)\n",
    "    \n",
    "print(hand)\n"
   ]
  }
 ],
 "metadata": {
  "kernelspec": {
   "display_name": "Python 3",
   "language": "python",
   "name": "python3"
  },
  "language_info": {
   "codemirror_mode": {
    "name": "ipython",
    "version": 3
   },
   "file_extension": ".py",
   "mimetype": "text/x-python",
   "name": "python",
   "nbconvert_exporter": "python",
   "pygments_lexer": "ipython3",
   "version": "3.11.1"
  },
  "orig_nbformat": 4,
  "vscode": {
   "interpreter": {
    "hash": "e495c4a3f6690e785cf434f60c92fd69b7df7f934bb17868e67acc811dae5c6f"
   }
  }
 },
 "nbformat": 4,
 "nbformat_minor": 2
}

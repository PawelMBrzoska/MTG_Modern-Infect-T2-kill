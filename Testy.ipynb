{
 "cells": [
  {
   "cell_type": "code",
   "execution_count": 2,
   "metadata": {},
   "outputs": [],
   "source": [
    "import pandas as pd"
   ]
  },
  {
   "cell_type": "code",
   "execution_count": 7,
   "metadata": {},
   "outputs": [],
   "source": [
    "class card:\n",
    "    def __init__(self):\n",
    "        self.name = str\n",
    "        self.amount = int\n",
    "        self.id = int\n"
   ]
  },
  {
   "cell_type": "code",
   "execution_count": 8,
   "metadata": {},
   "outputs": [
    {
     "name": "stdout",
     "output_type": "stream",
     "text": [
      "4 Archmage's Charm\n",
      "4 Consider\n",
      "3 Counterspell\n",
      "3 Dragon's Rage Channeler\n",
      "4 Expressive Iteration\n",
      "1 Fiery Islet\n",
      "2 Flooded Strand\n",
      "3 Island\n",
      "2 Ledger Shredder\n",
      "4 Lightning Bolt\n",
      "2 Mercurial Spelldancer\n",
      "1 Minor Misstep\n",
      "4 Mishra's Bauble\n",
      "2 Murktide Regent\n",
      "1 Otawara, Soaring City\n",
      "1 Polluted Delta\n",
      "4 Ragavan, Nimble Pilferer\n",
      "3 Scalding Tarn\n",
      "1 Spell Pierce\n",
      "4 Spirebluff Canal\n",
      "3 Steam Vents\n",
      "4 Unholy Heat\n"
     ]
    }
   ],
   "source": [
    "df = open('Deck.txt').read().splitlines()\n",
    "deck{}\n",
    "i=1\n",
    "for line in df:\n",
    "    if line != \"\":\n",
    "        deck.id=i\n",
    "    else:\n",
    "        break\n",
    "        \n"
   ]
  }
 ],
 "metadata": {
  "kernelspec": {
   "display_name": "Python 3",
   "language": "python",
   "name": "python3"
  },
  "language_info": {
   "codemirror_mode": {
    "name": "ipython",
    "version": 3
   },
   "file_extension": ".py",
   "mimetype": "text/x-python",
   "name": "python",
   "nbconvert_exporter": "python",
   "pygments_lexer": "ipython3",
   "version": "3.11.1"
  },
  "orig_nbformat": 4,
  "vscode": {
   "interpreter": {
    "hash": "e495c4a3f6690e785cf434f60c92fd69b7df7f934bb17868e67acc811dae5c6f"
   }
  }
 },
 "nbformat": 4,
 "nbformat_minor": 2
}
